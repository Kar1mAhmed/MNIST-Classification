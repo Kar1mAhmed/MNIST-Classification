{
 "cells": [
  {
   "cell_type": "code",
   "execution_count": 252,
   "metadata": {},
   "outputs": [],
   "source": [
    "import torch\n",
    "from torch import nn\n",
    "import torch.nn.functional as F\n",
    "from torchvision import datasets, transforms\n",
    "from torch import optim"
   ]
  },
  {
   "attachments": {},
   "cell_type": "markdown",
   "metadata": {},
   "source": [
    "### Loading preparing the data"
   ]
  },
  {
   "cell_type": "code",
   "execution_count": 253,
   "metadata": {},
   "outputs": [
    {
     "name": "stdout",
     "output_type": "stream",
     "text": [
      "torch.Size([64, 1, 28, 28])\n"
     ]
    }
   ],
   "source": [
    "import torch\n",
    "from torchvision import datasets, transforms\n",
    "\n",
    "# Define a transform to normalize the data\n",
    "transform = transforms.Compose([transforms.ToTensor(),\n",
    "                                transforms.Normalize((0.5,), (0.5,))])\n",
    "\n",
    "# Load the training set\n",
    "trainset = datasets.FashionMNIST('~/.pytorch/F_MNIST_data/', download=True, train=True, transform=transform)\n",
    "trainloader = torch.utils.data.DataLoader(trainset, batch_size=64, shuffle=True)\n",
    "\n",
    "# Load the test set\n",
    "testset = datasets.FashionMNIST('~/.pytorch/F_MNIST_data/', download=True, train=False, transform=transform)\n",
    "testloader = torch.utils.data.DataLoader(testset, batch_size=64, shuffle=True)\n",
    "\n",
    "# Print the shape of the training set\n",
    "dataiter = iter(trainloader)\n",
    "images, labels = next(dataiter)\n",
    "print(images.shape) # Output: torch.Size([64, 1, 28, 28])"
   ]
  },
  {
   "cell_type": "code",
   "execution_count": 254,
   "metadata": {},
   "outputs": [
    {
     "data": {
      "text/plain": [
       "784"
      ]
     },
     "execution_count": 254,
     "metadata": {},
     "output_type": "execute_result"
    }
   ],
   "source": [
    "#getting the input size\n",
    "28 * 28"
   ]
  },
  {
   "cell_type": "code",
   "execution_count": 255,
   "metadata": {},
   "outputs": [
    {
     "name": "stdout",
     "output_type": "stream",
     "text": [
      "number of classes is 10\n"
     ]
    },
    {
     "data": {
      "text/plain": [
       "['T-shirt/top',\n",
       " 'Trouser',\n",
       " 'Pullover',\n",
       " 'Dress',\n",
       " 'Coat',\n",
       " 'Sandal',\n",
       " 'Shirt',\n",
       " 'Sneaker',\n",
       " 'Bag',\n",
       " 'Ankle boot']"
      ]
     },
     "execution_count": 255,
     "metadata": {},
     "output_type": "execute_result"
    }
   ],
   "source": [
    "#getting the output size\n",
    "print(f'number of classes is {len(trainset.classes)}')\n",
    "trainset.classes"
   ]
  },
  {
   "attachments": {},
   "cell_type": "markdown",
   "metadata": {},
   "source": [
    "# Building the Model Architecture"
   ]
  },
  {
   "cell_type": "code",
   "execution_count": 256,
   "metadata": {},
   "outputs": [],
   "source": [
    "class Model(nn.Module):\n",
    "    def __init__(self) -> None:\n",
    "        super().__init__()\n",
    "        \n",
    "        self.L1 = nn.Linear(784, 256)\n",
    "        self.L2 = nn.Linear(256, 128)\n",
    "        self.L3 = nn.Linear(128, 64)\n",
    "        self.L4 = nn.Linear(64, 10)\n",
    "    \n",
    "    def forward(self, input):\n",
    "        input = input.view(input.shape[0], -1)\n",
    "        output = F.relu(self.L1(input))\n",
    "        output = F.relu(self.L2(output))\n",
    "        output = F.relu(self.L3(output))\n",
    "        output = F.log_softmax(self.L4(output), dim=1)\n",
    "\n",
    "        return output"
   ]
  },
  {
   "cell_type": "code",
   "execution_count": 257,
   "metadata": {},
   "outputs": [
    {
     "name": "stdout",
     "output_type": "stream",
     "text": [
      "cuda:0\n"
     ]
    }
   ],
   "source": [
    "device = torch.device(\"cuda:0\" if torch.cuda.is_available() else \"cpu\")\n",
    "print(device)"
   ]
  },
  {
   "cell_type": "code",
   "execution_count": 258,
   "metadata": {},
   "outputs": [],
   "source": [
    "Fash_model = Model().to(device)\n",
    "criterion_loss = nn.NLLLoss()\n",
    "optimizer = optim.Adam(Fash_model.parameters(), lr=.003)\n",
    "\n",
    "Epochs = 10"
   ]
  },
  {
   "attachments": {},
   "cell_type": "markdown",
   "metadata": {},
   "source": [
    "## Training loop"
   ]
  },
  {
   "cell_type": "code",
   "execution_count": 259,
   "metadata": {},
   "outputs": [
    {
     "name": "stdout",
     "output_type": "stream",
     "text": [
      "Loss for epoch 1 : 0.5169\n",
      "Loss for epoch 2 : 0.3903\n",
      "Loss for epoch 3 : 0.3561\n",
      "Loss for epoch 4 : 0.3313\n",
      "Loss for epoch 5 : 0.3172\n",
      "Loss for epoch 6 : 0.3025\n",
      "Loss for epoch 7 : 0.2920\n",
      "Loss for epoch 8 : 0.2835\n",
      "Loss for epoch 9 : 0.2750\n",
      "Loss for epoch 10 : 0.2671\n"
     ]
    }
   ],
   "source": [
    "\n",
    "for e in range(Epochs):\n",
    "    running_loss = 0\n",
    "    for images, labels in trainloader:\n",
    "        \n",
    "        images, labels = images.to(device), labels.to(device)\n",
    "        \n",
    "        optimizer.zero_grad()\n",
    "        output = Fash_model(images)\n",
    "        loss_seq =criterion_loss(output, labels)\n",
    "        \n",
    "        loss_seq.backward()\n",
    "        optimizer.step()\n",
    "        \n",
    "        running_loss += loss_seq.item()   \n",
    "        \n",
    "        \n",
    "    else:\n",
    "        print(f\"Loss for epoch {e + 1} : {running_loss / len(trainloader):.4f}\")\n"
   ]
  },
  {
   "attachments": {},
   "cell_type": "markdown",
   "metadata": {},
   "source": [
    "### Test function to get the model accuracy "
   ]
  },
  {
   "cell_type": "code",
   "execution_count": 265,
   "metadata": {},
   "outputs": [],
   "source": [
    "def test(testloader, model):\n",
    "    num_correct = 0\n",
    "    total = 0\n",
    "\n",
    "    # Iterate over the test data\n",
    "    for images, labels in testloader:\n",
    "        \n",
    "        images, labels = images.to(device), labels.to(device)\n",
    "        # Make predictions\n",
    "        with torch.no_grad():\n",
    "            outputs = model(images)\n",
    "            \n",
    "        _, predicted = torch.max(outputs, 1)\n",
    "        \n",
    "        # Update the number of correct predictions and total predictions\n",
    "        num_correct += (predicted == labels).sum().item()\n",
    "        total += labels.size(0)\n",
    "\n",
    "    # Calculate the accuracy\n",
    "    accuracy = 100 * num_correct / total\n",
    "\n",
    "    # Print the accuracy\n",
    "    print('Accuracy of the network on the test images: %.2f %%' % accuracy)"
   ]
  },
  {
   "cell_type": "code",
   "execution_count": 266,
   "metadata": {},
   "outputs": [
    {
     "name": "stdout",
     "output_type": "stream",
     "text": [
      "Accuracy of the network on the test images: 87.69 %\n"
     ]
    }
   ],
   "source": [
    "test(testloader, Fash_model)"
   ]
  },
  {
   "cell_type": "code",
   "execution_count": 267,
   "metadata": {},
   "outputs": [],
   "source": [
    "import matplotlib.pyplot as plt\n",
    "import numpy as np"
   ]
  },
  {
   "attachments": {},
   "cell_type": "markdown",
   "metadata": {},
   "source": [
    "### Function to plot the image against the probability distribution of the predations"
   ]
  },
  {
   "cell_type": "code",
   "execution_count": 268,
   "metadata": {},
   "outputs": [],
   "source": [
    "def predict_and_view(input, label, model):\n",
    "    input = input.to(device)\n",
    "    with torch.no_grad():\n",
    "        pred = model(input)\n",
    "        ps = torch.exp(pred)\n",
    "    \n",
    "    ps = ps.cpu()\n",
    "    ps = ps.numpy()\n",
    "    \n",
    "    input = input.cpu()\n",
    "    \n",
    "    \n",
    "    plt.figure(figsize=(15, 5))\n",
    "    plt.subplot(1, 2, 1)\n",
    "    plt.imshow(np.squeeze(input))\n",
    "    plt.title(f'Actual: {label}')\n",
    "    plt.axis('off')\n",
    "\n",
    "    plt.subplot(1, 2, 2)\n",
    "    plt.barh(np.arange(len(testset.classes)), ps[0])\n",
    "    plt.yticks(np.arange(len(testset.classes)), testset.classes)\n",
    "    plt.xlabel('Probability')\n",
    "    plt.title('Predicted Probabilities')\n",
    "    plt.show()"
   ]
  },
  {
   "cell_type": "code",
   "execution_count": 271,
   "metadata": {},
   "outputs": [],
   "source": [
    "# Get a random image and plot it\n",
    "def random_view():\n",
    "    testiter = iter(testloader)\n",
    "    \n",
    "    images, labels = next(testiter)\n",
    "\n",
    "    n = np.random.randint(1, 60)\n",
    "\n",
    "    img, label = images[n], labels[n]\n",
    "    label = testset.classes[label]\n",
    "    predict_and_view(img, label, Fash_model)"
   ]
  },
  {
   "cell_type": "code",
   "execution_count": 272,
   "metadata": {},
   "outputs": [
    {
     "data": {
      "image/png": "[encoded data removed]",
      "text/plain": [
       "<Figure size 1500x500 with 2 Axes>"
      ]
     },
     "metadata": {},
     "output_type": "display_data"
    }
   ],
   "source": [
    "random_view()"
   ]
  },
  {
   "cell_type": "code",
   "execution_count": null,
   "metadata": {},
   "outputs": [],
   "source": []
  }
 ],
 "metadata": {
  "kernelspec": {
   "display_name": "Python 3",
   "language": "python",
   "name": "python3"
  },
  "language_info": {
   "codemirror_mode": {
    "name": "ipython",
    "version": 3
   },
   "file_extension": ".py",
   "mimetype": "text/x-python",
   "name": "python",
   "nbconvert_exporter": "python",
   "pygments_lexer": "ipython3",
   "version": "3.10.0"
  },
  "orig_nbformat": 4
 },
 "nbformat": 4,
 "nbformat_minor": 2
}
